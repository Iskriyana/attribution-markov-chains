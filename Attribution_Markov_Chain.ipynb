{
 "cells": [
  {
   "cell_type": "markdown",
   "id": "transparent-latitude",
   "metadata": {},
   "source": [
    "# Markov Chain Attribution Model"
   ]
  },
  {
   "cell_type": "markdown",
   "id": "photographic-desktop",
   "metadata": {},
   "source": [
    "<img src='./assets/markov_graph.png' alt='drawing' width='400' />"
   ]
  },
  {
   "cell_type": "markdown",
   "id": "vanilla-sleeping",
   "metadata": {},
   "source": [
    "The goal of this notebook is to create a simple Markov Chain Attribution model. \n",
    "\n",
    "- The notebook is inspired by this article [Marketing Channel Attribution with Markov Chains in Python](https://towardsdatascience.com/marketing-channel-attribution-with-markov-chains-in-python-part-2-the-complete-walkthrough-733c65b23323) and uses the given dataset. \n",
    "\n",
    "- I added more detailed explonation of the functions creating the Markov Chain Transition Matrix and the Removal Effect\n",
    "\n",
    "- Furthermore, I included additional resources at the end of the notebook"
   ]
  },
  {
   "cell_type": "code",
   "execution_count": 1,
   "id": "trained-appointment",
   "metadata": {},
   "outputs": [],
   "source": [
    "import matplotlib.pyplot as plt\n",
    "import numpy as np\n",
    "import pandas as pd\n",
    "import seaborn as sns\n",
    "\n",
    "from collections import defaultdict\n",
    "from hmmviz import TransGraph\n",
    "\n",
    "%matplotlib inline"
   ]
  },
  {
   "cell_type": "markdown",
   "id": "developed-bolivia",
   "metadata": {},
   "source": [
    "# Data Load"
   ]
  },
  {
   "cell_type": "code",
   "execution_count": 2,
   "id": "defined-bridges",
   "metadata": {},
   "outputs": [],
   "source": [
    "data_df = pd.read_csv('attribution_data.csv')"
   ]
  },
  {
   "cell_type": "code",
   "execution_count": 3,
   "id": "satellite-shanghai",
   "metadata": {},
   "outputs": [
    {
     "data": {
      "text/html": [
       "<div>\n",
       "<style scoped>\n",
       "    .dataframe tbody tr th:only-of-type {\n",
       "        vertical-align: middle;\n",
       "    }\n",
       "\n",
       "    .dataframe tbody tr th {\n",
       "        vertical-align: top;\n",
       "    }\n",
       "\n",
       "    .dataframe thead th {\n",
       "        text-align: right;\n",
       "    }\n",
       "</style>\n",
       "<table border=\"1\" class=\"dataframe\">\n",
       "  <thead>\n",
       "    <tr style=\"text-align: right;\">\n",
       "      <th></th>\n",
       "      <th>cookie</th>\n",
       "      <th>time</th>\n",
       "      <th>interaction</th>\n",
       "      <th>conversion</th>\n",
       "      <th>conversion_value</th>\n",
       "      <th>channel</th>\n",
       "    </tr>\n",
       "  </thead>\n",
       "  <tbody>\n",
       "    <tr>\n",
       "      <th>0</th>\n",
       "      <td>00000FkCnDfDDf0iC97iC703B</td>\n",
       "      <td>2018-07-03T13:02:11Z</td>\n",
       "      <td>impression</td>\n",
       "      <td>0</td>\n",
       "      <td>0.0</td>\n",
       "      <td>Instagram</td>\n",
       "    </tr>\n",
       "    <tr>\n",
       "      <th>1</th>\n",
       "      <td>00000FkCnDfDDf0iC97iC703B</td>\n",
       "      <td>2018-07-17T19:15:07Z</td>\n",
       "      <td>impression</td>\n",
       "      <td>0</td>\n",
       "      <td>0.0</td>\n",
       "      <td>Online Display</td>\n",
       "    </tr>\n",
       "    <tr>\n",
       "      <th>2</th>\n",
       "      <td>00000FkCnDfDDf0iC97iC703B</td>\n",
       "      <td>2018-07-24T15:51:46Z</td>\n",
       "      <td>impression</td>\n",
       "      <td>0</td>\n",
       "      <td>0.0</td>\n",
       "      <td>Online Display</td>\n",
       "    </tr>\n",
       "    <tr>\n",
       "      <th>3</th>\n",
       "      <td>00000FkCnDfDDf0iC97iC703B</td>\n",
       "      <td>2018-07-29T07:44:51Z</td>\n",
       "      <td>impression</td>\n",
       "      <td>0</td>\n",
       "      <td>0.0</td>\n",
       "      <td>Online Display</td>\n",
       "    </tr>\n",
       "    <tr>\n",
       "      <th>4</th>\n",
       "      <td>0000nACkD9nFkBBDECD3ki00E</td>\n",
       "      <td>2018-07-03T09:44:57Z</td>\n",
       "      <td>impression</td>\n",
       "      <td>0</td>\n",
       "      <td>0.0</td>\n",
       "      <td>Paid Search</td>\n",
       "    </tr>\n",
       "  </tbody>\n",
       "</table>\n",
       "</div>"
      ],
      "text/plain": [
       "                      cookie                  time interaction  conversion  \\\n",
       "0  00000FkCnDfDDf0iC97iC703B  2018-07-03T13:02:11Z  impression           0   \n",
       "1  00000FkCnDfDDf0iC97iC703B  2018-07-17T19:15:07Z  impression           0   \n",
       "2  00000FkCnDfDDf0iC97iC703B  2018-07-24T15:51:46Z  impression           0   \n",
       "3  00000FkCnDfDDf0iC97iC703B  2018-07-29T07:44:51Z  impression           0   \n",
       "4  0000nACkD9nFkBBDECD3ki00E  2018-07-03T09:44:57Z  impression           0   \n",
       "\n",
       "   conversion_value         channel  \n",
       "0               0.0       Instagram  \n",
       "1               0.0  Online Display  \n",
       "2               0.0  Online Display  \n",
       "3               0.0  Online Display  \n",
       "4               0.0     Paid Search  "
      ]
     },
     "execution_count": 3,
     "metadata": {},
     "output_type": "execute_result"
    }
   ],
   "source": [
    "data_df.head()"
   ]
  },
  {
   "cell_type": "code",
   "execution_count": 4,
   "id": "exterior-upgrade",
   "metadata": {},
   "outputs": [
    {
     "name": "stdout",
     "output_type": "stream",
     "text": [
      "<class 'pandas.core.frame.DataFrame'>\n",
      "RangeIndex: 586737 entries, 0 to 586736\n",
      "Data columns (total 6 columns):\n",
      " #   Column            Non-Null Count   Dtype  \n",
      "---  ------            --------------   -----  \n",
      " 0   cookie            586737 non-null  object \n",
      " 1   time              586737 non-null  object \n",
      " 2   interaction       586737 non-null  object \n",
      " 3   conversion        586737 non-null  int64  \n",
      " 4   conversion_value  586737 non-null  float64\n",
      " 5   channel           586737 non-null  object \n",
      "dtypes: float64(1), int64(1), object(4)\n",
      "memory usage: 26.9+ MB\n"
     ]
    }
   ],
   "source": [
    "data_df.info()"
   ]
  },
  {
   "cell_type": "code",
   "execution_count": 5,
   "id": "tutorial-transmission",
   "metadata": {},
   "outputs": [
    {
     "data": {
      "text/html": [
       "<div>\n",
       "<style scoped>\n",
       "    .dataframe tbody tr th:only-of-type {\n",
       "        vertical-align: middle;\n",
       "    }\n",
       "\n",
       "    .dataframe tbody tr th {\n",
       "        vertical-align: top;\n",
       "    }\n",
       "\n",
       "    .dataframe thead th {\n",
       "        text-align: right;\n",
       "    }\n",
       "</style>\n",
       "<table border=\"1\" class=\"dataframe\">\n",
       "  <thead>\n",
       "    <tr style=\"text-align: right;\">\n",
       "      <th></th>\n",
       "      <th>conversion</th>\n",
       "      <th>conversion_value</th>\n",
       "    </tr>\n",
       "  </thead>\n",
       "  <tbody>\n",
       "    <tr>\n",
       "      <th>count</th>\n",
       "      <td>586737.000000</td>\n",
       "      <td>586737.000000</td>\n",
       "    </tr>\n",
       "    <tr>\n",
       "      <th>mean</th>\n",
       "      <td>0.030063</td>\n",
       "      <td>0.187871</td>\n",
       "    </tr>\n",
       "    <tr>\n",
       "      <th>std</th>\n",
       "      <td>0.170760</td>\n",
       "      <td>1.084498</td>\n",
       "    </tr>\n",
       "    <tr>\n",
       "      <th>min</th>\n",
       "      <td>0.000000</td>\n",
       "      <td>0.000000</td>\n",
       "    </tr>\n",
       "    <tr>\n",
       "      <th>25%</th>\n",
       "      <td>0.000000</td>\n",
       "      <td>0.000000</td>\n",
       "    </tr>\n",
       "    <tr>\n",
       "      <th>50%</th>\n",
       "      <td>0.000000</td>\n",
       "      <td>0.000000</td>\n",
       "    </tr>\n",
       "    <tr>\n",
       "      <th>75%</th>\n",
       "      <td>0.000000</td>\n",
       "      <td>0.000000</td>\n",
       "    </tr>\n",
       "    <tr>\n",
       "      <th>max</th>\n",
       "      <td>1.000000</td>\n",
       "      <td>8.500000</td>\n",
       "    </tr>\n",
       "  </tbody>\n",
       "</table>\n",
       "</div>"
      ],
      "text/plain": [
       "          conversion  conversion_value\n",
       "count  586737.000000     586737.000000\n",
       "mean        0.030063          0.187871\n",
       "std         0.170760          1.084498\n",
       "min         0.000000          0.000000\n",
       "25%         0.000000          0.000000\n",
       "50%         0.000000          0.000000\n",
       "75%         0.000000          0.000000\n",
       "max         1.000000          8.500000"
      ]
     },
     "execution_count": 5,
     "metadata": {},
     "output_type": "execute_result"
    }
   ],
   "source": [
    "data_df.describe()"
   ]
  },
  {
   "cell_type": "markdown",
   "id": "fresh-bicycle",
   "metadata": {},
   "source": [
    "# EDA"
   ]
  },
  {
   "cell_type": "code",
   "execution_count": 6,
   "id": "wired-remains",
   "metadata": {},
   "outputs": [
    {
     "data": {
      "text/plain": [
       "array(['Instagram', 'Online Display', 'Paid Search', 'Facebook',\n",
       "       'Online Video'], dtype=object)"
      ]
     },
     "execution_count": 6,
     "metadata": {},
     "output_type": "execute_result"
    }
   ],
   "source": [
    "data_df['channel'].unique()"
   ]
  },
  {
   "cell_type": "code",
   "execution_count": null,
   "id": "awful-omega",
   "metadata": {},
   "outputs": [],
   "source": []
  },
  {
   "cell_type": "markdown",
   "id": "automotive-specification",
   "metadata": {},
   "source": [
    "# Data Preprocessing"
   ]
  },
  {
   "cell_type": "code",
   "execution_count": 7,
   "id": "announced-boundary",
   "metadata": {},
   "outputs": [],
   "source": [
    "data_df = data_df.sort_values(['cookie', 'time'], ascending=[False, True])"
   ]
  },
  {
   "cell_type": "code",
   "execution_count": 8,
   "id": "atmospheric-calculation",
   "metadata": {},
   "outputs": [],
   "source": [
    "data_df['visit_order'] = data_df.groupby('cookie').cumcount() + 1"
   ]
  },
  {
   "cell_type": "code",
   "execution_count": 9,
   "id": "composed-disclaimer",
   "metadata": {},
   "outputs": [
    {
     "data": {
      "text/html": [
       "<div>\n",
       "<style scoped>\n",
       "    .dataframe tbody tr th:only-of-type {\n",
       "        vertical-align: middle;\n",
       "    }\n",
       "\n",
       "    .dataframe tbody tr th {\n",
       "        vertical-align: top;\n",
       "    }\n",
       "\n",
       "    .dataframe thead th {\n",
       "        text-align: right;\n",
       "    }\n",
       "</style>\n",
       "<table border=\"1\" class=\"dataframe\">\n",
       "  <thead>\n",
       "    <tr style=\"text-align: right;\">\n",
       "      <th></th>\n",
       "      <th>cookie</th>\n",
       "      <th>time</th>\n",
       "      <th>interaction</th>\n",
       "      <th>conversion</th>\n",
       "      <th>conversion_value</th>\n",
       "      <th>channel</th>\n",
       "      <th>visit_order</th>\n",
       "    </tr>\n",
       "  </thead>\n",
       "  <tbody>\n",
       "    <tr>\n",
       "      <th>586736</th>\n",
       "      <td>ooooohAFofEnonEikhAi3fF9o</td>\n",
       "      <td>2018-07-14T17:17:12Z</td>\n",
       "      <td>impression</td>\n",
       "      <td>0</td>\n",
       "      <td>0.0</td>\n",
       "      <td>Paid Search</td>\n",
       "      <td>1</td>\n",
       "    </tr>\n",
       "    <tr>\n",
       "      <th>586734</th>\n",
       "      <td>ooooiBh70D3k3BfAhDFfii9h7</td>\n",
       "      <td>2018-07-03T12:57:25Z</td>\n",
       "      <td>impression</td>\n",
       "      <td>0</td>\n",
       "      <td>0.0</td>\n",
       "      <td>Paid Search</td>\n",
       "      <td>1</td>\n",
       "    </tr>\n",
       "    <tr>\n",
       "      <th>586735</th>\n",
       "      <td>ooooiBh70D3k3BfAhDFfii9h7</td>\n",
       "      <td>2018-07-19T08:17:59Z</td>\n",
       "      <td>impression</td>\n",
       "      <td>0</td>\n",
       "      <td>0.0</td>\n",
       "      <td>Online Video</td>\n",
       "      <td>2</td>\n",
       "    </tr>\n",
       "    <tr>\n",
       "      <th>586731</th>\n",
       "      <td>ooooEiB0CCoEf9fiiC90Dfhfk</td>\n",
       "      <td>2018-07-06T23:30:38Z</td>\n",
       "      <td>impression</td>\n",
       "      <td>0</td>\n",
       "      <td>0.0</td>\n",
       "      <td>Online Display</td>\n",
       "      <td>1</td>\n",
       "    </tr>\n",
       "    <tr>\n",
       "      <th>586732</th>\n",
       "      <td>ooooEiB0CCoEf9fiiC90Dfhfk</td>\n",
       "      <td>2018-07-12T23:50:45Z</td>\n",
       "      <td>impression</td>\n",
       "      <td>0</td>\n",
       "      <td>0.0</td>\n",
       "      <td>Online Display</td>\n",
       "      <td>2</td>\n",
       "    </tr>\n",
       "  </tbody>\n",
       "</table>\n",
       "</div>"
      ],
      "text/plain": [
       "                           cookie                  time interaction  \\\n",
       "586736  ooooohAFofEnonEikhAi3fF9o  2018-07-14T17:17:12Z  impression   \n",
       "586734  ooooiBh70D3k3BfAhDFfii9h7  2018-07-03T12:57:25Z  impression   \n",
       "586735  ooooiBh70D3k3BfAhDFfii9h7  2018-07-19T08:17:59Z  impression   \n",
       "586731  ooooEiB0CCoEf9fiiC90Dfhfk  2018-07-06T23:30:38Z  impression   \n",
       "586732  ooooEiB0CCoEf9fiiC90Dfhfk  2018-07-12T23:50:45Z  impression   \n",
       "\n",
       "        conversion  conversion_value         channel  visit_order  \n",
       "586736           0               0.0     Paid Search            1  \n",
       "586734           0               0.0     Paid Search            1  \n",
       "586735           0               0.0    Online Video            2  \n",
       "586731           0               0.0  Online Display            1  \n",
       "586732           0               0.0  Online Display            2  "
      ]
     },
     "execution_count": 9,
     "metadata": {},
     "output_type": "execute_result"
    }
   ],
   "source": [
    "data_df.head()"
   ]
  },
  {
   "cell_type": "code",
   "execution_count": 10,
   "id": "fitting-living",
   "metadata": {},
   "outputs": [],
   "source": [
    "df_paths = data_df.groupby('cookie')['channel'].aggregate(\n",
    "    lambda x: x.unique().tolist()).reset_index()"
   ]
  },
  {
   "cell_type": "code",
   "execution_count": 11,
   "id": "warming-tuner",
   "metadata": {},
   "outputs": [
    {
     "data": {
      "text/html": [
       "<div>\n",
       "<style scoped>\n",
       "    .dataframe tbody tr th:only-of-type {\n",
       "        vertical-align: middle;\n",
       "    }\n",
       "\n",
       "    .dataframe tbody tr th {\n",
       "        vertical-align: top;\n",
       "    }\n",
       "\n",
       "    .dataframe thead th {\n",
       "        text-align: right;\n",
       "    }\n",
       "</style>\n",
       "<table border=\"1\" class=\"dataframe\">\n",
       "  <thead>\n",
       "    <tr style=\"text-align: right;\">\n",
       "      <th></th>\n",
       "      <th>cookie</th>\n",
       "      <th>channel</th>\n",
       "    </tr>\n",
       "  </thead>\n",
       "  <tbody>\n",
       "    <tr>\n",
       "      <th>0</th>\n",
       "      <td>00000FkCnDfDDf0iC97iC703B</td>\n",
       "      <td>[Instagram, Online Display]</td>\n",
       "    </tr>\n",
       "  </tbody>\n",
       "</table>\n",
       "</div>"
      ],
      "text/plain": [
       "                      cookie                      channel\n",
       "0  00000FkCnDfDDf0iC97iC703B  [Instagram, Online Display]"
      ]
     },
     "execution_count": 11,
     "metadata": {},
     "output_type": "execute_result"
    }
   ],
   "source": [
    "df_paths.head(1)"
   ]
  },
  {
   "cell_type": "code",
   "execution_count": 12,
   "id": "civil-partition",
   "metadata": {},
   "outputs": [],
   "source": [
    "df_last_interaction = data_df.drop_duplicates('cookie', keep='last')[\n",
    "    ['cookie', 'conversion']]"
   ]
  },
  {
   "cell_type": "code",
   "execution_count": 13,
   "id": "sixth-episode",
   "metadata": {},
   "outputs": [
    {
     "data": {
      "text/html": [
       "<div>\n",
       "<style scoped>\n",
       "    .dataframe tbody tr th:only-of-type {\n",
       "        vertical-align: middle;\n",
       "    }\n",
       "\n",
       "    .dataframe tbody tr th {\n",
       "        vertical-align: top;\n",
       "    }\n",
       "\n",
       "    .dataframe thead th {\n",
       "        text-align: right;\n",
       "    }\n",
       "</style>\n",
       "<table border=\"1\" class=\"dataframe\">\n",
       "  <thead>\n",
       "    <tr style=\"text-align: right;\">\n",
       "      <th></th>\n",
       "      <th>cookie</th>\n",
       "      <th>conversion</th>\n",
       "    </tr>\n",
       "  </thead>\n",
       "  <tbody>\n",
       "    <tr>\n",
       "      <th>586736</th>\n",
       "      <td>ooooohAFofEnonEikhAi3fF9o</td>\n",
       "      <td>0</td>\n",
       "    </tr>\n",
       "  </tbody>\n",
       "</table>\n",
       "</div>"
      ],
      "text/plain": [
       "                           cookie  conversion\n",
       "586736  ooooohAFofEnonEikhAi3fF9o           0"
      ]
     },
     "execution_count": 13,
     "metadata": {},
     "output_type": "execute_result"
    }
   ],
   "source": [
    "df_last_interaction.head(1)"
   ]
  },
  {
   "cell_type": "code",
   "execution_count": 14,
   "id": "challenging-bathroom",
   "metadata": {},
   "outputs": [],
   "source": [
    "df_paths = pd.merge(df_paths, df_last_interaction, how='left', on='cookie')"
   ]
  },
  {
   "cell_type": "code",
   "execution_count": 15,
   "id": "angry-reverse",
   "metadata": {},
   "outputs": [
    {
     "data": {
      "text/html": [
       "<div>\n",
       "<style scoped>\n",
       "    .dataframe tbody tr th:only-of-type {\n",
       "        vertical-align: middle;\n",
       "    }\n",
       "\n",
       "    .dataframe tbody tr th {\n",
       "        vertical-align: top;\n",
       "    }\n",
       "\n",
       "    .dataframe thead th {\n",
       "        text-align: right;\n",
       "    }\n",
       "</style>\n",
       "<table border=\"1\" class=\"dataframe\">\n",
       "  <thead>\n",
       "    <tr style=\"text-align: right;\">\n",
       "      <th></th>\n",
       "      <th>cookie</th>\n",
       "      <th>channel</th>\n",
       "      <th>conversion</th>\n",
       "    </tr>\n",
       "  </thead>\n",
       "  <tbody>\n",
       "    <tr>\n",
       "      <th>0</th>\n",
       "      <td>00000FkCnDfDDf0iC97iC703B</td>\n",
       "      <td>[Instagram, Online Display]</td>\n",
       "      <td>0</td>\n",
       "    </tr>\n",
       "  </tbody>\n",
       "</table>\n",
       "</div>"
      ],
      "text/plain": [
       "                      cookie                      channel  conversion\n",
       "0  00000FkCnDfDDf0iC97iC703B  [Instagram, Online Display]           0"
      ]
     },
     "execution_count": 15,
     "metadata": {},
     "output_type": "execute_result"
    }
   ],
   "source": [
    "df_paths.head(1)"
   ]
  },
  {
   "cell_type": "code",
   "execution_count": 16,
   "id": "rubber-pennsylvania",
   "metadata": {},
   "outputs": [],
   "source": [
    "#df_paths = df_paths.drop('conversion_x', axis=1)"
   ]
  },
  {
   "cell_type": "code",
   "execution_count": 17,
   "id": "herbal-appeal",
   "metadata": {},
   "outputs": [],
   "source": [
    "#df_paths = df_paths.rename(columns={'conversion_y': 'conversion'})"
   ]
  },
  {
   "cell_type": "code",
   "execution_count": 18,
   "id": "universal-compensation",
   "metadata": {},
   "outputs": [],
   "source": [
    "# df_paths.head(1)"
   ]
  },
  {
   "cell_type": "code",
   "execution_count": 19,
   "id": "studied-expansion",
   "metadata": {},
   "outputs": [],
   "source": [
    "# df_paths.info()"
   ]
  },
  {
   "cell_type": "code",
   "execution_count": 20,
   "id": "rental-lottery",
   "metadata": {},
   "outputs": [],
   "source": [
    "df_paths['path'] = np.where(\n",
    "    df_paths['conversion'] == 0,\n",
    "    ['Start, '] + df_paths['channel'].apply(', '.join) + [', Null'],\n",
    "    ['Start, '] + df_paths['channel'].apply(', '.join) + [', Conversion'])"
   ]
  },
  {
   "cell_type": "code",
   "execution_count": 21,
   "id": "provincial-making",
   "metadata": {},
   "outputs": [
    {
     "data": {
      "text/html": [
       "<div>\n",
       "<style scoped>\n",
       "    .dataframe tbody tr th:only-of-type {\n",
       "        vertical-align: middle;\n",
       "    }\n",
       "\n",
       "    .dataframe tbody tr th {\n",
       "        vertical-align: top;\n",
       "    }\n",
       "\n",
       "    .dataframe thead th {\n",
       "        text-align: right;\n",
       "    }\n",
       "</style>\n",
       "<table border=\"1\" class=\"dataframe\">\n",
       "  <thead>\n",
       "    <tr style=\"text-align: right;\">\n",
       "      <th></th>\n",
       "      <th>cookie</th>\n",
       "      <th>channel</th>\n",
       "      <th>conversion</th>\n",
       "      <th>path</th>\n",
       "    </tr>\n",
       "  </thead>\n",
       "  <tbody>\n",
       "    <tr>\n",
       "      <th>0</th>\n",
       "      <td>00000FkCnDfDDf0iC97iC703B</td>\n",
       "      <td>[Instagram, Online Display]</td>\n",
       "      <td>0</td>\n",
       "      <td>Start, Instagram, Online Display, Null</td>\n",
       "    </tr>\n",
       "    <tr>\n",
       "      <th>1</th>\n",
       "      <td>0000nACkD9nFkBBDECD3ki00E</td>\n",
       "      <td>[Paid Search]</td>\n",
       "      <td>0</td>\n",
       "      <td>Start, Paid Search, Null</td>\n",
       "    </tr>\n",
       "    <tr>\n",
       "      <th>2</th>\n",
       "      <td>0003EfE37E93D0BC03iBhBBhF</td>\n",
       "      <td>[Paid Search]</td>\n",
       "      <td>0</td>\n",
       "      <td>Start, Paid Search, Null</td>\n",
       "    </tr>\n",
       "    <tr>\n",
       "      <th>3</th>\n",
       "      <td>00073CFE3FoFCn70fBhB3kfon</td>\n",
       "      <td>[Instagram]</td>\n",
       "      <td>0</td>\n",
       "      <td>Start, Instagram, Null</td>\n",
       "    </tr>\n",
       "    <tr>\n",
       "      <th>4</th>\n",
       "      <td>00079hhBkDF3k3kDkiFi9EFAD</td>\n",
       "      <td>[Paid Search]</td>\n",
       "      <td>0</td>\n",
       "      <td>Start, Paid Search, Null</td>\n",
       "    </tr>\n",
       "  </tbody>\n",
       "</table>\n",
       "</div>"
      ],
      "text/plain": [
       "                      cookie                      channel  conversion  \\\n",
       "0  00000FkCnDfDDf0iC97iC703B  [Instagram, Online Display]           0   \n",
       "1  0000nACkD9nFkBBDECD3ki00E                [Paid Search]           0   \n",
       "2  0003EfE37E93D0BC03iBhBBhF                [Paid Search]           0   \n",
       "3  00073CFE3FoFCn70fBhB3kfon                  [Instagram]           0   \n",
       "4  00079hhBkDF3k3kDkiFi9EFAD                [Paid Search]           0   \n",
       "\n",
       "                                     path  \n",
       "0  Start, Instagram, Online Display, Null  \n",
       "1                Start, Paid Search, Null  \n",
       "2                Start, Paid Search, Null  \n",
       "3                  Start, Instagram, Null  \n",
       "4                Start, Paid Search, Null  "
      ]
     },
     "execution_count": 21,
     "metadata": {},
     "output_type": "execute_result"
    }
   ],
   "source": [
    "df_paths.head()"
   ]
  },
  {
   "cell_type": "code",
   "execution_count": 22,
   "id": "convenient-wireless",
   "metadata": {},
   "outputs": [],
   "source": [
    "df_paths['path'] = df_paths['path'].str.split(', ')"
   ]
  },
  {
   "cell_type": "code",
   "execution_count": 23,
   "id": "minute-eclipse",
   "metadata": {},
   "outputs": [
    {
     "data": {
      "text/html": [
       "<div>\n",
       "<style scoped>\n",
       "    .dataframe tbody tr th:only-of-type {\n",
       "        vertical-align: middle;\n",
       "    }\n",
       "\n",
       "    .dataframe tbody tr th {\n",
       "        vertical-align: top;\n",
       "    }\n",
       "\n",
       "    .dataframe thead th {\n",
       "        text-align: right;\n",
       "    }\n",
       "</style>\n",
       "<table border=\"1\" class=\"dataframe\">\n",
       "  <thead>\n",
       "    <tr style=\"text-align: right;\">\n",
       "      <th></th>\n",
       "      <th>cookie</th>\n",
       "      <th>channel</th>\n",
       "      <th>conversion</th>\n",
       "      <th>path</th>\n",
       "    </tr>\n",
       "  </thead>\n",
       "  <tbody>\n",
       "    <tr>\n",
       "      <th>0</th>\n",
       "      <td>00000FkCnDfDDf0iC97iC703B</td>\n",
       "      <td>[Instagram, Online Display]</td>\n",
       "      <td>0</td>\n",
       "      <td>[Start, Instagram, Online Display, Null]</td>\n",
       "    </tr>\n",
       "    <tr>\n",
       "      <th>1</th>\n",
       "      <td>0000nACkD9nFkBBDECD3ki00E</td>\n",
       "      <td>[Paid Search]</td>\n",
       "      <td>0</td>\n",
       "      <td>[Start, Paid Search, Null]</td>\n",
       "    </tr>\n",
       "    <tr>\n",
       "      <th>2</th>\n",
       "      <td>0003EfE37E93D0BC03iBhBBhF</td>\n",
       "      <td>[Paid Search]</td>\n",
       "      <td>0</td>\n",
       "      <td>[Start, Paid Search, Null]</td>\n",
       "    </tr>\n",
       "    <tr>\n",
       "      <th>3</th>\n",
       "      <td>00073CFE3FoFCn70fBhB3kfon</td>\n",
       "      <td>[Instagram]</td>\n",
       "      <td>0</td>\n",
       "      <td>[Start, Instagram, Null]</td>\n",
       "    </tr>\n",
       "    <tr>\n",
       "      <th>4</th>\n",
       "      <td>00079hhBkDF3k3kDkiFi9EFAD</td>\n",
       "      <td>[Paid Search]</td>\n",
       "      <td>0</td>\n",
       "      <td>[Start, Paid Search, Null]</td>\n",
       "    </tr>\n",
       "  </tbody>\n",
       "</table>\n",
       "</div>"
      ],
      "text/plain": [
       "                      cookie                      channel  conversion  \\\n",
       "0  00000FkCnDfDDf0iC97iC703B  [Instagram, Online Display]           0   \n",
       "1  0000nACkD9nFkBBDECD3ki00E                [Paid Search]           0   \n",
       "2  0003EfE37E93D0BC03iBhBBhF                [Paid Search]           0   \n",
       "3  00073CFE3FoFCn70fBhB3kfon                  [Instagram]           0   \n",
       "4  00079hhBkDF3k3kDkiFi9EFAD                [Paid Search]           0   \n",
       "\n",
       "                                       path  \n",
       "0  [Start, Instagram, Online Display, Null]  \n",
       "1                [Start, Paid Search, Null]  \n",
       "2                [Start, Paid Search, Null]  \n",
       "3                  [Start, Instagram, Null]  \n",
       "4                [Start, Paid Search, Null]  "
      ]
     },
     "execution_count": 23,
     "metadata": {},
     "output_type": "execute_result"
    }
   ],
   "source": [
    "df_paths.head()"
   ]
  },
  {
   "cell_type": "code",
   "execution_count": 24,
   "id": "lightweight-orlando",
   "metadata": {},
   "outputs": [],
   "source": [
    "df_paths = df_paths[['cookie', 'path']]"
   ]
  },
  {
   "cell_type": "code",
   "execution_count": 25,
   "id": "incident-interaction",
   "metadata": {},
   "outputs": [
    {
     "data": {
      "text/html": [
       "<div>\n",
       "<style scoped>\n",
       "    .dataframe tbody tr th:only-of-type {\n",
       "        vertical-align: middle;\n",
       "    }\n",
       "\n",
       "    .dataframe tbody tr th {\n",
       "        vertical-align: top;\n",
       "    }\n",
       "\n",
       "    .dataframe thead th {\n",
       "        text-align: right;\n",
       "    }\n",
       "</style>\n",
       "<table border=\"1\" class=\"dataframe\">\n",
       "  <thead>\n",
       "    <tr style=\"text-align: right;\">\n",
       "      <th></th>\n",
       "      <th>cookie</th>\n",
       "      <th>path</th>\n",
       "    </tr>\n",
       "  </thead>\n",
       "  <tbody>\n",
       "    <tr>\n",
       "      <th>0</th>\n",
       "      <td>00000FkCnDfDDf0iC97iC703B</td>\n",
       "      <td>[Start, Instagram, Online Display, Null]</td>\n",
       "    </tr>\n",
       "  </tbody>\n",
       "</table>\n",
       "</div>"
      ],
      "text/plain": [
       "                      cookie                                      path\n",
       "0  00000FkCnDfDDf0iC97iC703B  [Start, Instagram, Online Display, Null]"
      ]
     },
     "execution_count": 25,
     "metadata": {},
     "output_type": "execute_result"
    }
   ],
   "source": [
    "df_paths.head(1)"
   ]
  },
  {
   "cell_type": "markdown",
   "id": "american-bouquet",
   "metadata": {},
   "source": [
    "# Markov Chains"
   ]
  },
  {
   "cell_type": "markdown",
   "id": "hollywood-middle",
   "metadata": {},
   "source": [
    "## 1. Generate the Transition Matrix "
   ]
  },
  {
   "cell_type": "markdown",
   "id": "british-earth",
   "metadata": {},
   "source": [
    "Calculate transition probabilities between all states in our state-space"
   ]
  },
  {
   "cell_type": "code",
   "execution_count": 26,
   "id": "revised-while",
   "metadata": {},
   "outputs": [
    {
     "data": {
      "text/plain": [
       "0         [Start, Instagram, Online Display, Null]\n",
       "1                       [Start, Paid Search, Null]\n",
       "2                       [Start, Paid Search, Null]\n",
       "3                         [Start, Instagram, Null]\n",
       "4                       [Start, Paid Search, Null]\n",
       "                            ...                   \n",
       "240103               [Start, Online Display, Null]\n",
       "240104               [Start, Online Display, Null]\n",
       "240105               [Start, Online Display, Null]\n",
       "240106    [Start, Paid Search, Online Video, Null]\n",
       "240107                  [Start, Paid Search, Null]\n",
       "Name: path, Length: 240108, dtype: object"
      ]
     },
     "execution_count": 26,
     "metadata": {},
     "output_type": "execute_result"
    }
   ],
   "source": [
    "list_of_paths = df_paths['path']\n",
    "list_of_paths"
   ]
  },
  {
   "cell_type": "code",
   "execution_count": 27,
   "id": "postal-colon",
   "metadata": {},
   "outputs": [],
   "source": [
    "total_conversions = sum(path.count('Conversion')\n",
    "                        for path in df_paths['path'].tolist())"
   ]
  },
  {
   "cell_type": "code",
   "execution_count": 28,
   "id": "moving-cuisine",
   "metadata": {},
   "outputs": [],
   "source": [
    "base_conversion_rate = total_conversions / len(list_of_paths)"
   ]
  },
  {
   "cell_type": "code",
   "execution_count": 29,
   "id": "extensive-penguin",
   "metadata": {},
   "outputs": [],
   "source": [
    "def transition_states(list_of_paths):\n",
    "    \"\"\"\n",
    "    This function: \n",
    "        1. generates a list of all unique channels (=touch points)\n",
    "        2. creates a transition dictionary with keys being the cartesian product of the unique channels and values=0\n",
    "           ex.:  'Facebook>Instagram': 0\n",
    "        3. calculates, while looping through the user_paths from list_of_paths, the position of every channel different than Null & Conversion \n",
    "        4. based on the channel's position, \"cuts out\" of the user_path the channel itself & the following channel in a two-state transition   \n",
    "           and matches it to the corresponding transition in the transition_states dictionary \n",
    "        5. increases the value of the two-state transition in the transition_states dictionary by 1\n",
    "\n",
    "    Args: \n",
    "        - list_of_paths - a list containing the touch points in the customer journey of the user. \n",
    "                          In terms of our data: it sorts the channels (=touch points) chronologically (via the time stamp) per cookie (=user_id). \n",
    "\n",
    "    Returns:\n",
    "        - transitions_states - a dictionary containing the frequency of the two-state transition \n",
    "          ex: 'Online Video>Paid Search': 1964\n",
    "\n",
    "\n",
    "    \"\"\"\n",
    "    list_of_unique_channels = set(\n",
    "        x for element in list_of_paths for x in element)\n",
    "    transition_states = {\n",
    "        x + '>' + y: 0 for x in list_of_unique_channels for y in list_of_unique_channels}\n",
    "\n",
    "    for possible_state in list_of_unique_channels:\n",
    "        if possible_state not in ['Conversion', 'Null']:\n",
    "            for user_path in list_of_paths:\n",
    "                if possible_state in user_path:\n",
    "                    indices = [i for i, s in enumerate(\n",
    "                        user_path) if possible_state in s]\n",
    "                    for col in indices:\n",
    "                        transition_states[user_path[col] +\n",
    "                                          '>' + user_path[col+1]] += 1\n",
    "\n",
    "    return transition_states"
   ]
  },
  {
   "cell_type": "code",
   "execution_count": 30,
   "id": "sitting-interpretation",
   "metadata": {},
   "outputs": [],
   "source": [
    "trans_states = transition_states(list_of_paths)"
   ]
  },
  {
   "cell_type": "markdown",
   "id": "difficult-diesel",
   "metadata": {},
   "source": [
    "info on defaultdict: https://www.geeksforgeeks.org/defaultdict-in-python/#:~:text=Defaultdict%20is%20a%20sub%2Dclass,key%20that%20does%20not%20exists."
   ]
  },
  {
   "cell_type": "code",
   "execution_count": 31,
   "id": "binary-player",
   "metadata": {},
   "outputs": [],
   "source": [
    "def transition_prob(trans_states):\n",
    "    \"\"\"\n",
    "    This function: \n",
    "        1. takes a dictionary containing the frequency of a two-state transition, i.e. two consecutive touch points\n",
    "        2. sums up the occurences per origin channel \n",
    "        3. calculates the probability of a certain state transition\n",
    "           = state transition frequency / total occurences of origin channel\n",
    "\n",
    "    Args: \n",
    "        - trans_dict -  a dictionary containing the frequency of the two-state combination \n",
    "          ex: 'Online Video>Paid Search': 1964\n",
    "\n",
    "    Returns: \n",
    "        - trans_prob - a dictionary containing all transitions and their respective transition probabilities given the historical data \n",
    "\n",
    "    \"\"\"\n",
    "\n",
    "    list_of_unique_channels = set(\n",
    "        x for element in list_of_paths for x in element)\n",
    "    trans_prob = defaultdict(dict)\n",
    "    for state in list_of_unique_channels:\n",
    "        if state not in ['Conversion', 'Null']:\n",
    "            counter = 0\n",
    "            index = [i for i, s in enumerate(trans_states) if state + '>' in s]\n",
    "            for col in index:\n",
    "                if trans_states[list(trans_states)[col]] > 0:\n",
    "                    counter += trans_states[list(trans_states)[col]]\n",
    "            for col in index:\n",
    "                if trans_states[list(trans_states)[col]] > 0:\n",
    "                    state_prob = float(\n",
    "                        (trans_states[list(trans_states)[col]])) / float(counter)\n",
    "                    trans_prob[list(trans_states)[col]] = state_prob\n",
    "\n",
    "    return trans_prob"
   ]
  },
  {
   "cell_type": "code",
   "execution_count": 32,
   "id": "checked-contest",
   "metadata": {},
   "outputs": [],
   "source": [
    "trans_prob = transition_prob(trans_states)"
   ]
  },
  {
   "cell_type": "code",
   "execution_count": 33,
   "id": "casual-montreal",
   "metadata": {},
   "outputs": [],
   "source": [
    "def transition_matrix(list_of_paths, transition_probabilities):\n",
    "    \"\"\"\n",
    "    This function transforms the transition probability dictionary into a data frame.\n",
    "\n",
    "    Args: \n",
    "        - list_of_paths - a list containing the touch points in the customer journey of the user. \n",
    "                          In terms of our data: it sorts the channels (=touch points) chronologically (via the time stamp) per cookie (=user_id).\n",
    "        - transition_probabilites - a dictionary containing all transitions and their respective transition probabilities given the historical data\n",
    "\n",
    "\n",
    "    Returns: \n",
    "        - trans_matrix - a data frame with the transition probabilities per channel\n",
    "\n",
    "    \"\"\"\n",
    "\n",
    "    trans_matrix = pd.DataFrame()\n",
    "    list_of_unique_channels = set(\n",
    "        x for element in list_of_paths for x in element)\n",
    "\n",
    "    for channel in list_of_unique_channels:\n",
    "        trans_matrix[channel] = 0.00\n",
    "        trans_matrix.loc[channel] = 0.00\n",
    "        trans_matrix.loc[channel][channel] = 1.0 if channel in [\n",
    "            'Conversion', 'Null'] else 0.0\n",
    "\n",
    "    for key, value in transition_probabilities.items():\n",
    "        origin, destination = key.split('>')\n",
    "        trans_matrix.at[origin, destination] = value\n",
    "\n",
    "    return trans_matrix"
   ]
  },
  {
   "cell_type": "code",
   "execution_count": 34,
   "id": "material-identifier",
   "metadata": {},
   "outputs": [],
   "source": [
    "trans_matrix = transition_matrix(list_of_paths, trans_prob)"
   ]
  },
  {
   "cell_type": "code",
   "execution_count": 35,
   "id": "consistent-verse",
   "metadata": {},
   "outputs": [
    {
     "data": {
      "text/html": [
       "<div>\n",
       "<style scoped>\n",
       "    .dataframe tbody tr th:only-of-type {\n",
       "        vertical-align: middle;\n",
       "    }\n",
       "\n",
       "    .dataframe tbody tr th {\n",
       "        vertical-align: top;\n",
       "    }\n",
       "\n",
       "    .dataframe thead th {\n",
       "        text-align: right;\n",
       "    }\n",
       "</style>\n",
       "<table border=\"1\" class=\"dataframe\">\n",
       "  <thead>\n",
       "    <tr style=\"text-align: right;\">\n",
       "      <th></th>\n",
       "      <th>Paid Search</th>\n",
       "      <th>Instagram</th>\n",
       "      <th>Online Display</th>\n",
       "      <th>Facebook</th>\n",
       "      <th>Conversion</th>\n",
       "      <th>Null</th>\n",
       "      <th>Online Video</th>\n",
       "      <th>Start</th>\n",
       "    </tr>\n",
       "  </thead>\n",
       "  <tbody>\n",
       "    <tr>\n",
       "      <th>Paid Search</th>\n",
       "      <td>0.000000</td>\n",
       "      <td>0.034196</td>\n",
       "      <td>0.048053</td>\n",
       "      <td>0.064442</td>\n",
       "      <td>0.053309</td>\n",
       "      <td>0.770779</td>\n",
       "      <td>0.029221</td>\n",
       "      <td>0.0</td>\n",
       "    </tr>\n",
       "    <tr>\n",
       "      <th>Instagram</th>\n",
       "      <td>0.045809</td>\n",
       "      <td>0.000000</td>\n",
       "      <td>0.023531</td>\n",
       "      <td>0.218777</td>\n",
       "      <td>0.057979</td>\n",
       "      <td>0.629786</td>\n",
       "      <td>0.024118</td>\n",
       "      <td>0.0</td>\n",
       "    </tr>\n",
       "    <tr>\n",
       "      <th>Online Display</th>\n",
       "      <td>0.092386</td>\n",
       "      <td>0.029363</td>\n",
       "      <td>0.000000</td>\n",
       "      <td>0.053986</td>\n",
       "      <td>0.050324</td>\n",
       "      <td>0.756643</td>\n",
       "      <td>0.017299</td>\n",
       "      <td>0.0</td>\n",
       "    </tr>\n",
       "    <tr>\n",
       "      <th>Facebook</th>\n",
       "      <td>0.050655</td>\n",
       "      <td>0.173072</td>\n",
       "      <td>0.024352</td>\n",
       "      <td>0.000000</td>\n",
       "      <td>0.053220</td>\n",
       "      <td>0.673123</td>\n",
       "      <td>0.025577</td>\n",
       "      <td>0.0</td>\n",
       "    </tr>\n",
       "    <tr>\n",
       "      <th>Conversion</th>\n",
       "      <td>0.000000</td>\n",
       "      <td>0.000000</td>\n",
       "      <td>0.000000</td>\n",
       "      <td>0.000000</td>\n",
       "      <td>1.000000</td>\n",
       "      <td>0.000000</td>\n",
       "      <td>0.000000</td>\n",
       "      <td>0.0</td>\n",
       "    </tr>\n",
       "    <tr>\n",
       "      <th>Null</th>\n",
       "      <td>0.000000</td>\n",
       "      <td>0.000000</td>\n",
       "      <td>0.000000</td>\n",
       "      <td>0.000000</td>\n",
       "      <td>0.000000</td>\n",
       "      <td>1.000000</td>\n",
       "      <td>0.000000</td>\n",
       "      <td>0.0</td>\n",
       "    </tr>\n",
       "    <tr>\n",
       "      <th>Online Video</th>\n",
       "      <td>0.047947</td>\n",
       "      <td>0.031908</td>\n",
       "      <td>0.018920</td>\n",
       "      <td>0.059323</td>\n",
       "      <td>0.078146</td>\n",
       "      <td>0.763757</td>\n",
       "      <td>0.000000</td>\n",
       "      <td>0.0</td>\n",
       "    </tr>\n",
       "    <tr>\n",
       "      <th>Start</th>\n",
       "      <td>0.317399</td>\n",
       "      <td>0.119188</td>\n",
       "      <td>0.142644</td>\n",
       "      <td>0.278408</td>\n",
       "      <td>0.000000</td>\n",
       "      <td>0.000000</td>\n",
       "      <td>0.142361</td>\n",
       "      <td>0.0</td>\n",
       "    </tr>\n",
       "  </tbody>\n",
       "</table>\n",
       "</div>"
      ],
      "text/plain": [
       "                Paid Search  Instagram  Online Display  Facebook  Conversion  \\\n",
       "Paid Search        0.000000   0.034196        0.048053  0.064442    0.053309   \n",
       "Instagram          0.045809   0.000000        0.023531  0.218777    0.057979   \n",
       "Online Display     0.092386   0.029363        0.000000  0.053986    0.050324   \n",
       "Facebook           0.050655   0.173072        0.024352  0.000000    0.053220   \n",
       "Conversion         0.000000   0.000000        0.000000  0.000000    1.000000   \n",
       "Null               0.000000   0.000000        0.000000  0.000000    0.000000   \n",
       "Online Video       0.047947   0.031908        0.018920  0.059323    0.078146   \n",
       "Start              0.317399   0.119188        0.142644  0.278408    0.000000   \n",
       "\n",
       "                    Null  Online Video  Start  \n",
       "Paid Search     0.770779      0.029221    0.0  \n",
       "Instagram       0.629786      0.024118    0.0  \n",
       "Online Display  0.756643      0.017299    0.0  \n",
       "Facebook        0.673123      0.025577    0.0  \n",
       "Conversion      0.000000      0.000000    0.0  \n",
       "Null            1.000000      0.000000    0.0  \n",
       "Online Video    0.763757      0.000000    0.0  \n",
       "Start           0.000000      0.142361    0.0  "
      ]
     },
     "execution_count": 35,
     "metadata": {},
     "output_type": "execute_result"
    }
   ],
   "source": [
    "trans_matrix"
   ]
  },
  {
   "cell_type": "markdown",
   "id": "neutral-johnson",
   "metadata": {},
   "source": [
    "How to custom sort a string index: https://stackoverflow.com/questions/50012525/how-to-sort-pandas-dataframe-by-custom-order-on-string-index"
   ]
  },
  {
   "cell_type": "code",
   "execution_count": 36,
   "id": "involved-vulnerability",
   "metadata": {},
   "outputs": [],
   "source": [
    "reorder_list = ['Start', 'Online Video', 'Paid Search', 'Facebook',\n",
    "                'Online Display', 'Instagram', 'Conversion', 'Null']"
   ]
  },
  {
   "cell_type": "code",
   "execution_count": 37,
   "id": "vulnerable-syria",
   "metadata": {},
   "outputs": [
    {
     "data": {
      "text/html": [
       "<div>\n",
       "<style scoped>\n",
       "    .dataframe tbody tr th:only-of-type {\n",
       "        vertical-align: middle;\n",
       "    }\n",
       "\n",
       "    .dataframe tbody tr th {\n",
       "        vertical-align: top;\n",
       "    }\n",
       "\n",
       "    .dataframe thead th {\n",
       "        text-align: right;\n",
       "    }\n",
       "</style>\n",
       "<table border=\"1\" class=\"dataframe\">\n",
       "  <thead>\n",
       "    <tr style=\"text-align: right;\">\n",
       "      <th></th>\n",
       "      <th>Paid Search</th>\n",
       "      <th>Instagram</th>\n",
       "      <th>Online Display</th>\n",
       "      <th>Facebook</th>\n",
       "      <th>Conversion</th>\n",
       "      <th>Null</th>\n",
       "      <th>Online Video</th>\n",
       "      <th>Start</th>\n",
       "    </tr>\n",
       "  </thead>\n",
       "  <tbody>\n",
       "    <tr>\n",
       "      <th>Start</th>\n",
       "      <td>0.317399</td>\n",
       "      <td>0.119188</td>\n",
       "      <td>0.142644</td>\n",
       "      <td>0.278408</td>\n",
       "      <td>0.000000</td>\n",
       "      <td>0.000000</td>\n",
       "      <td>0.142361</td>\n",
       "      <td>0.0</td>\n",
       "    </tr>\n",
       "    <tr>\n",
       "      <th>Online Video</th>\n",
       "      <td>0.047947</td>\n",
       "      <td>0.031908</td>\n",
       "      <td>0.018920</td>\n",
       "      <td>0.059323</td>\n",
       "      <td>0.078146</td>\n",
       "      <td>0.763757</td>\n",
       "      <td>0.000000</td>\n",
       "      <td>0.0</td>\n",
       "    </tr>\n",
       "    <tr>\n",
       "      <th>Paid Search</th>\n",
       "      <td>0.000000</td>\n",
       "      <td>0.034196</td>\n",
       "      <td>0.048053</td>\n",
       "      <td>0.064442</td>\n",
       "      <td>0.053309</td>\n",
       "      <td>0.770779</td>\n",
       "      <td>0.029221</td>\n",
       "      <td>0.0</td>\n",
       "    </tr>\n",
       "    <tr>\n",
       "      <th>Facebook</th>\n",
       "      <td>0.050655</td>\n",
       "      <td>0.173072</td>\n",
       "      <td>0.024352</td>\n",
       "      <td>0.000000</td>\n",
       "      <td>0.053220</td>\n",
       "      <td>0.673123</td>\n",
       "      <td>0.025577</td>\n",
       "      <td>0.0</td>\n",
       "    </tr>\n",
       "    <tr>\n",
       "      <th>Online Display</th>\n",
       "      <td>0.092386</td>\n",
       "      <td>0.029363</td>\n",
       "      <td>0.000000</td>\n",
       "      <td>0.053986</td>\n",
       "      <td>0.050324</td>\n",
       "      <td>0.756643</td>\n",
       "      <td>0.017299</td>\n",
       "      <td>0.0</td>\n",
       "    </tr>\n",
       "    <tr>\n",
       "      <th>Instagram</th>\n",
       "      <td>0.045809</td>\n",
       "      <td>0.000000</td>\n",
       "      <td>0.023531</td>\n",
       "      <td>0.218777</td>\n",
       "      <td>0.057979</td>\n",
       "      <td>0.629786</td>\n",
       "      <td>0.024118</td>\n",
       "      <td>0.0</td>\n",
       "    </tr>\n",
       "    <tr>\n",
       "      <th>Conversion</th>\n",
       "      <td>0.000000</td>\n",
       "      <td>0.000000</td>\n",
       "      <td>0.000000</td>\n",
       "      <td>0.000000</td>\n",
       "      <td>1.000000</td>\n",
       "      <td>0.000000</td>\n",
       "      <td>0.000000</td>\n",
       "      <td>0.0</td>\n",
       "    </tr>\n",
       "    <tr>\n",
       "      <th>Null</th>\n",
       "      <td>0.000000</td>\n",
       "      <td>0.000000</td>\n",
       "      <td>0.000000</td>\n",
       "      <td>0.000000</td>\n",
       "      <td>0.000000</td>\n",
       "      <td>1.000000</td>\n",
       "      <td>0.000000</td>\n",
       "      <td>0.0</td>\n",
       "    </tr>\n",
       "  </tbody>\n",
       "</table>\n",
       "</div>"
      ],
      "text/plain": [
       "                Paid Search  Instagram  Online Display  Facebook  Conversion  \\\n",
       "Start              0.317399   0.119188        0.142644  0.278408    0.000000   \n",
       "Online Video       0.047947   0.031908        0.018920  0.059323    0.078146   \n",
       "Paid Search        0.000000   0.034196        0.048053  0.064442    0.053309   \n",
       "Facebook           0.050655   0.173072        0.024352  0.000000    0.053220   \n",
       "Online Display     0.092386   0.029363        0.000000  0.053986    0.050324   \n",
       "Instagram          0.045809   0.000000        0.023531  0.218777    0.057979   \n",
       "Conversion         0.000000   0.000000        0.000000  0.000000    1.000000   \n",
       "Null               0.000000   0.000000        0.000000  0.000000    0.000000   \n",
       "\n",
       "                    Null  Online Video  Start  \n",
       "Start           0.000000      0.142361    0.0  \n",
       "Online Video    0.763757      0.000000    0.0  \n",
       "Paid Search     0.770779      0.029221    0.0  \n",
       "Facebook        0.673123      0.025577    0.0  \n",
       "Online Display  0.756643      0.017299    0.0  \n",
       "Instagram       0.629786      0.024118    0.0  \n",
       "Conversion      0.000000      0.000000    0.0  \n",
       "Null            1.000000      0.000000    0.0  "
      ]
     },
     "execution_count": 37,
     "metadata": {},
     "output_type": "execute_result"
    }
   ],
   "source": [
    "trans_matrix = trans_matrix.reindex(reorder_list)\n",
    "trans_matrix"
   ]
  },
  {
   "cell_type": "code",
   "execution_count": 38,
   "id": "industrial-plant",
   "metadata": {},
   "outputs": [
    {
     "data": {
      "text/html": [
       "<div>\n",
       "<style scoped>\n",
       "    .dataframe tbody tr th:only-of-type {\n",
       "        vertical-align: middle;\n",
       "    }\n",
       "\n",
       "    .dataframe tbody tr th {\n",
       "        vertical-align: top;\n",
       "    }\n",
       "\n",
       "    .dataframe thead th {\n",
       "        text-align: right;\n",
       "    }\n",
       "</style>\n",
       "<table border=\"1\" class=\"dataframe\">\n",
       "  <thead>\n",
       "    <tr style=\"text-align: right;\">\n",
       "      <th></th>\n",
       "      <th>Start</th>\n",
       "      <th>Online Video</th>\n",
       "      <th>Paid Search</th>\n",
       "      <th>Facebook</th>\n",
       "      <th>Online Display</th>\n",
       "      <th>Instagram</th>\n",
       "      <th>Conversion</th>\n",
       "      <th>Null</th>\n",
       "    </tr>\n",
       "  </thead>\n",
       "  <tbody>\n",
       "    <tr>\n",
       "      <th>Start</th>\n",
       "      <td>0.0</td>\n",
       "      <td>0.142361</td>\n",
       "      <td>0.317399</td>\n",
       "      <td>0.278408</td>\n",
       "      <td>0.142644</td>\n",
       "      <td>0.119188</td>\n",
       "      <td>0.000000</td>\n",
       "      <td>0.000000</td>\n",
       "    </tr>\n",
       "    <tr>\n",
       "      <th>Online Video</th>\n",
       "      <td>0.0</td>\n",
       "      <td>0.000000</td>\n",
       "      <td>0.047947</td>\n",
       "      <td>0.059323</td>\n",
       "      <td>0.018920</td>\n",
       "      <td>0.031908</td>\n",
       "      <td>0.078146</td>\n",
       "      <td>0.763757</td>\n",
       "    </tr>\n",
       "    <tr>\n",
       "      <th>Paid Search</th>\n",
       "      <td>0.0</td>\n",
       "      <td>0.029221</td>\n",
       "      <td>0.000000</td>\n",
       "      <td>0.064442</td>\n",
       "      <td>0.048053</td>\n",
       "      <td>0.034196</td>\n",
       "      <td>0.053309</td>\n",
       "      <td>0.770779</td>\n",
       "    </tr>\n",
       "    <tr>\n",
       "      <th>Facebook</th>\n",
       "      <td>0.0</td>\n",
       "      <td>0.025577</td>\n",
       "      <td>0.050655</td>\n",
       "      <td>0.000000</td>\n",
       "      <td>0.024352</td>\n",
       "      <td>0.173072</td>\n",
       "      <td>0.053220</td>\n",
       "      <td>0.673123</td>\n",
       "    </tr>\n",
       "    <tr>\n",
       "      <th>Online Display</th>\n",
       "      <td>0.0</td>\n",
       "      <td>0.017299</td>\n",
       "      <td>0.092386</td>\n",
       "      <td>0.053986</td>\n",
       "      <td>0.000000</td>\n",
       "      <td>0.029363</td>\n",
       "      <td>0.050324</td>\n",
       "      <td>0.756643</td>\n",
       "    </tr>\n",
       "    <tr>\n",
       "      <th>Instagram</th>\n",
       "      <td>0.0</td>\n",
       "      <td>0.024118</td>\n",
       "      <td>0.045809</td>\n",
       "      <td>0.218777</td>\n",
       "      <td>0.023531</td>\n",
       "      <td>0.000000</td>\n",
       "      <td>0.057979</td>\n",
       "      <td>0.629786</td>\n",
       "    </tr>\n",
       "    <tr>\n",
       "      <th>Conversion</th>\n",
       "      <td>0.0</td>\n",
       "      <td>0.000000</td>\n",
       "      <td>0.000000</td>\n",
       "      <td>0.000000</td>\n",
       "      <td>0.000000</td>\n",
       "      <td>0.000000</td>\n",
       "      <td>1.000000</td>\n",
       "      <td>0.000000</td>\n",
       "    </tr>\n",
       "    <tr>\n",
       "      <th>Null</th>\n",
       "      <td>0.0</td>\n",
       "      <td>0.000000</td>\n",
       "      <td>0.000000</td>\n",
       "      <td>0.000000</td>\n",
       "      <td>0.000000</td>\n",
       "      <td>0.000000</td>\n",
       "      <td>0.000000</td>\n",
       "      <td>1.000000</td>\n",
       "    </tr>\n",
       "  </tbody>\n",
       "</table>\n",
       "</div>"
      ],
      "text/plain": [
       "                Start  Online Video  Paid Search  Facebook  Online Display  \\\n",
       "Start             0.0      0.142361     0.317399  0.278408        0.142644   \n",
       "Online Video      0.0      0.000000     0.047947  0.059323        0.018920   \n",
       "Paid Search       0.0      0.029221     0.000000  0.064442        0.048053   \n",
       "Facebook          0.0      0.025577     0.050655  0.000000        0.024352   \n",
       "Online Display    0.0      0.017299     0.092386  0.053986        0.000000   \n",
       "Instagram         0.0      0.024118     0.045809  0.218777        0.023531   \n",
       "Conversion        0.0      0.000000     0.000000  0.000000        0.000000   \n",
       "Null              0.0      0.000000     0.000000  0.000000        0.000000   \n",
       "\n",
       "                Instagram  Conversion      Null  \n",
       "Start            0.119188    0.000000  0.000000  \n",
       "Online Video     0.031908    0.078146  0.763757  \n",
       "Paid Search      0.034196    0.053309  0.770779  \n",
       "Facebook         0.173072    0.053220  0.673123  \n",
       "Online Display   0.029363    0.050324  0.756643  \n",
       "Instagram        0.000000    0.057979  0.629786  \n",
       "Conversion       0.000000    1.000000  0.000000  \n",
       "Null             0.000000    0.000000  1.000000  "
      ]
     },
     "execution_count": 38,
     "metadata": {},
     "output_type": "execute_result"
    }
   ],
   "source": [
    "trans_matrix = trans_matrix[reorder_list]\n",
    "trans_matrix"
   ]
  },
  {
   "cell_type": "markdown",
   "id": "charitable-badge",
   "metadata": {},
   "source": [
    "The Transition Probabilites Matrix represents the user behaviour. \n",
    "\n",
    "offers a glimpse in how the online marketing channels "
   ]
  },
  {
   "cell_type": "code",
   "execution_count": 39,
   "id": "developmental-sympathy",
   "metadata": {},
   "outputs": [
    {
     "data": {
      "image/png": "[encoded data removed]",
      "text/plain": [
       "<Figure size 864x576 with 2 Axes>"
      ]
     },
     "metadata": {
      "needs_background": "light"
     },
     "output_type": "display_data"
    }
   ],
   "source": [
    "plt.figure(figsize=(12, 8))\n",
    "\n",
    "ax = sns.heatmap(trans_matrix, annot=True, cmap='YlGnBu')\n",
    "ax.set(title='Transition Probabilities', xlabel='Destination', ylabel='Origin');"
   ]
  },
  {
   "cell_type": "markdown",
   "id": "accessible-brook",
   "metadata": {},
   "source": [
    "### Graph Visualisation of the Transition State Matrix"
   ]
  },
  {
   "cell_type": "markdown",
   "id": "lightweight-gathering",
   "metadata": {},
   "source": [
    "Library: https://pypi.org/project/hmmviz/"
   ]
  },
  {
   "cell_type": "code",
   "execution_count": 40,
   "id": "bored-pregnancy",
   "metadata": {},
   "outputs": [
    {
     "data": {
      "image/png": "[encoded data removed]",
      "text/plain": [
       "<Figure size 864x864 with 1 Axes>"
      ]
     },
     "metadata": {
      "needs_background": "light"
     },
     "output_type": "display_data"
    }
   ],
   "source": [
    "graph = TransGraph(trans_matrix)\n",
    "\n",
    "# looks best on square figures/axes\n",
    "fig = plt.figure(figsize=(12, 12))\n",
    "\n",
    "colors = {'Start': 'black',\n",
    "          'Null': 'black',\n",
    "          'Conversion': 'yellow',\n",
    "          #'Online Video': 'green',\n",
    "          #'Paid Search': 'red',\n",
    "          #'Facebook': 'blue',\n",
    "          #'Online Display': 'pink',\n",
    "          #'Instagram': 'purple',\n",
    "         }\n",
    "\n",
    "graph.draw(#edgecolors=colors,\n",
    "           edgelabels=True,\n",
    "           nodefontsize=8)\n",
    "\n",
    "plt.savefig('./assets/markov_graph.png', facecolor='white')\n",
    "plt.show()"
   ]
  },
  {
   "cell_type": "markdown",
   "id": "floating-legislature",
   "metadata": {},
   "source": [
    "## 2. Calculate Removal Effects"
   ]
  },
  {
   "cell_type": "markdown",
   "id": "static-radical",
   "metadata": {},
   "source": [
    "The removal effect is defined as the probability of reaching a conversion when a given channel or tactic is removed from the system"
   ]
  },
  {
   "cell_type": "code",
   "execution_count": 41,
   "id": "happy-floor",
   "metadata": {},
   "outputs": [],
   "source": [
    "def removal_effects(trans_matrix, base_conversion_rate):\n",
    "    \"\"\"\n",
    "    This function calculates the removal efffect\n",
    "\n",
    "    - Args: \n",
    "        - trans_matrix\n",
    "        - conversion_rate\n",
    "\n",
    "    - Returns: \n",
    "        - removal_effects_dict\n",
    "    \"\"\"\n",
    "\n",
    "    removal_effects_dict = {}\n",
    "    channels = trans_matrix.columns\n",
    "    channels = channels.drop(['Start', 'Null', 'Conversion'])\n",
    "\n",
    "    for channel in channels:\n",
    "        removal_df = trans_matrix.drop(channel, axis=1).drop(channel, axis=0)\n",
    "\n",
    "        for column in removal_df.columns:\n",
    "            row_sum = np.sum(list(removal_df.loc[column]))\n",
    "            null_pct = float(1) - row_sum\n",
    "\n",
    "            if null_pct != 0:\n",
    "                removal_df.loc[column]['Null'] = null_pct\n",
    "\n",
    "            removal_df.loc['Null']['Null'] = 1.0\n",
    "\n",
    "        removal_to_conv = removal_df[\n",
    "            ['Null', 'Conversion']].drop(['Null', 'Conversion'], axis=0)\n",
    "\n",
    "\n",
    "        removal_to_non_conv = removal_df.drop(\n",
    "            ['Null', 'Conversion'], axis=1).drop(['Null', 'Conversion'], axis=0)\n",
    "\n",
    "        removal_inv_diff = np.linalg.inv(\n",
    "            np.identity(\n",
    "                len(removal_to_non_conv.columns)) - np.asarray(removal_to_non_conv))\n",
    "\n",
    "\n",
    "        removal_dot_prod = np.dot(\n",
    "            removal_inv_diff, np.asarray(removal_to_conv))\n",
    "        \n",
    "\n",
    "        removal_cvr = pd.DataFrame(removal_dot_prod,\n",
    "                                   index=removal_to_conv.index)[[1]].loc['Start'].values[0]\n",
    "       \n",
    "        removal_effect = 1 - removal_cvr / base_conversion_rate\n",
    "\n",
    "        removal_effects_dict[channel] = removal_effect\n",
    "\n",
    "    return removal_effects_dict"
   ]
  },
  {
   "cell_type": "code",
   "execution_count": 42,
   "id": "induced-sarah",
   "metadata": {},
   "outputs": [],
   "source": [
    "removal_effects_dict = removal_effects(trans_matrix, base_conversion_rate)"
   ]
  },
  {
   "cell_type": "code",
   "execution_count": 43,
   "id": "similar-praise",
   "metadata": {},
   "outputs": [
    {
     "data": {
      "text/plain": [
       "{'Online Video': 0.2069141165564219,\n",
       " 'Paid Search': 0.3311037560086154,\n",
       " 'Facebook': 0.3547597674182721,\n",
       " 'Online Display': 0.15435482356041286,\n",
       " 'Instagram': 0.21731366149038456}"
      ]
     },
     "execution_count": 43,
     "metadata": {},
     "output_type": "execute_result"
    }
   ],
   "source": [
    "removal_effects_dict"
   ]
  },
  {
   "cell_type": "code",
   "execution_count": 44,
   "id": "given-butler",
   "metadata": {},
   "outputs": [],
   "source": [
    "def markov_chain_allocations(removal_effects, total_conversions):\n",
    "    re_sum = np.sum(list(removal_effects.values()))\n",
    "\n",
    "    return {k: (v / re_sum) * total_conversions for k, v in removal_effects.items()}\n"
   ]
  },
  {
   "cell_type": "code",
   "execution_count": 45,
   "id": "relevant-catalog",
   "metadata": {},
   "outputs": [],
   "source": [
    "attributions = markov_chain_allocations(removal_effects_dict, total_conversions)"
   ]
  },
  {
   "cell_type": "code",
   "execution_count": 46,
   "id": "modular-click",
   "metadata": {},
   "outputs": [
    {
     "data": {
      "text/plain": [
       "{'Online Video': 2886.448089546147,\n",
       " 'Paid Search': 4618.891257291355,\n",
       " 'Facebook': 4948.892177847522,\n",
       " 'Online Display': 2153.2469267590836,\n",
       " 'Instagram': 3031.5215485558924}"
      ]
     },
     "execution_count": 46,
     "metadata": {},
     "output_type": "execute_result"
    }
   ],
   "source": [
    "attributions"
   ]
  },
  {
   "cell_type": "code",
   "execution_count": 47,
   "id": "complex-powder",
   "metadata": {},
   "outputs": [],
   "source": [
    "attr = pd.DataFrame(attributions, index=[0])"
   ]
  },
  {
   "cell_type": "code",
   "execution_count": 48,
   "id": "creative-general",
   "metadata": {},
   "outputs": [
    {
     "data": {
      "image/png": "[encoded data removed]",
      "text/plain": [
       "<Figure size 864x576 with 1 Axes>"
      ]
     },
     "metadata": {
      "needs_background": "light"
     },
     "output_type": "display_data"
    }
   ],
   "source": [
    "plt.figure(figsize=(12, 8))\n",
    "\n",
    "ax = sns.barplot(data=attr, palette='YlGnBu')\n",
    "ax.set(title='Markov Chain Attribution Model', \n",
    "       xlabel='Marketing Channel', \n",
    "       ylabel='Revenue');"
   ]
  },
  {
   "cell_type": "markdown",
   "id": "illegal-quarterly",
   "metadata": {},
   "source": [
    "# Additional Resources"
   ]
  },
  {
   "cell_type": "markdown",
   "id": "renewable-curtis",
   "metadata": {},
   "source": [
    "Questions & ToDos: \n",
    "- Qs in the comments\n",
    "- additional sources\n",
    "- more elegenat ways in the functions (instead of fors)"
   ]
  },
  {
   "cell_type": "code",
   "execution_count": null,
   "id": "imported-amateur",
   "metadata": {},
   "outputs": [],
   "source": []
  }
 ],
 "metadata": {
  "kernelspec": {
   "display_name": "attr-markov",
   "language": "python",
   "name": "attribution-markov-chains"
  },
  "language_info": {
   "codemirror_mode": {
    "name": "ipython",
    "version": 3
   },
   "file_extension": ".py",
   "mimetype": "text/x-python",
   "name": "python",
   "nbconvert_exporter": "python",
   "pygments_lexer": "ipython3",
   "version": "3.9.1"
  }
 },
 "nbformat": 4,
 "nbformat_minor": 5
}
